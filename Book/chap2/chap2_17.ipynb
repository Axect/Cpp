{
 "cells": [
  {
   "cell_type": "code",
   "execution_count": 1,
   "metadata": {},
   "outputs": [],
   "source": [
    "#include <iostream>"
   ]
  },
  {
   "cell_type": "code",
   "execution_count": 2,
   "metadata": {},
   "outputs": [],
   "source": [
    "using namespace std;"
   ]
  },
  {
   "cell_type": "code",
   "execution_count": 3,
   "metadata": {},
   "outputs": [
    {
     "name": "stderr",
     "output_type": "stream",
     "text": [
      "\u001b[1minput_line_9:39:5: \u001b[0m\u001b[0;1;35mwarning: \u001b[0m\u001b[1mcontrol may reach end of non-void function [-Wreturn-type]\u001b[0m\n",
      "    }\n",
      "\u001b[0;1;32m    ^\n",
      "\u001b[0m"
     ]
    }
   ],
   "source": [
    "class complex {\n",
    "public:\n",
    "    // Default constructor\n",
    "    complex(double r, double i) : r(r), i(i) {}\n",
    "    \n",
    "    // Copy constructor with delegate\n",
    "    complex(const complex& c) : complex{c.r, c.i} {}\n",
    "    \n",
    "    // Copy Assign operator\n",
    "    complex& operator=(const complex& src) {\n",
    "        r = src.r; i = src.i;\n",
    "        return *this;\n",
    "    }\n",
    "    \n",
    "    // Move constructor   \n",
    "    complex(complex&& c) : complex{c.r, c.i} {\n",
    "        c.r = 0;\n",
    "        c.i = 0;\n",
    "    }\n",
    "    \n",
    "    // Getter - clumpsy\n",
    "    double get_r() { return this->r; }\n",
    "    \n",
    "    // Access - clumpsy\n",
    "    void set_r(double r_new) {\n",
    "        this->r += r_new;\n",
    "    }\n",
    "    \n",
    "    // Access - reference\n",
    "    double& real() { return this->r; }\n",
    "    double& imag() { return this->i; }\n",
    "    \n",
    "    // Overload - index\n",
    "    const double& operator[](int i) const {\n",
    "        switch (i) {\n",
    "            case 0: return this->r; break;\n",
    "            case 1: return this->i; break;\n",
    "        }\n",
    "    }\n",
    "    \n",
    "private:\n",
    "    double r, i;\n",
    "};"
   ]
  },
  {
   "cell_type": "code",
   "execution_count": 4,
   "metadata": {},
   "outputs": [],
   "source": [
    "// Access - natural\n",
    "inline double& real(complex& c) { return c.real(); }"
   ]
  },
  {
   "cell_type": "code",
   "execution_count": 5,
   "metadata": {},
   "outputs": [],
   "source": [
    "inline double& imag(complex& c) { return c.imag(); }"
   ]
  },
  {
   "cell_type": "code",
   "execution_count": 6,
   "metadata": {},
   "outputs": [
    {
     "name": "stderr",
     "output_type": "stream",
     "text": [
      "\u001b[1minput_line_12:3:52: \u001b[0m\u001b[0;1;31merror: \u001b[0m\u001b[1mfunction definition is not allowed here\u001b[0m\n",
      "ostream& operator<<(ostream& os, const complex& c) { \n",
      "\u001b[0;1;32m                                                   ^\n",
      "\u001b[0m"
     ]
    },
    {
     "ename": "Interpreter Error",
     "evalue": "",
     "output_type": "error",
     "traceback": [
      "Interpreter Error: "
     ]
    }
   ],
   "source": [
    "// Overload - stream\n",
    "ostream& operator<<(ostream& os, const complex& c) { \n",
    "    return os << '(' << real(c) << ',' << imag(c) << ')'; \n",
    "}"
   ]
  },
  {
   "cell_type": "code",
   "execution_count": 3,
   "metadata": {},
   "outputs": [],
   "source": [
    "complex c = {1, 1};"
   ]
  },
  {
   "cell_type": "code",
   "execution_count": 4,
   "metadata": {},
   "outputs": [
    {
     "data": {
      "text/plain": [
       "1"
      ]
     },
     "execution_count": 4,
     "metadata": {},
     "output_type": "execute_result"
    }
   ],
   "source": [
    "c.get_r()"
   ]
  },
  {
   "cell_type": "code",
   "execution_count": 5,
   "metadata": {},
   "outputs": [],
   "source": [
    "c.set_r(1);"
   ]
  },
  {
   "cell_type": "code",
   "execution_count": 6,
   "metadata": {},
   "outputs": [
    {
     "data": {
      "text/plain": [
       "2"
      ]
     },
     "execution_count": 6,
     "metadata": {},
     "output_type": "execute_result"
    }
   ],
   "source": [
    "c.get_r()"
   ]
  },
  {
   "cell_type": "code",
   "execution_count": 7,
   "metadata": {},
   "outputs": [],
   "source": [
    "c.real() += 1;"
   ]
  },
  {
   "cell_type": "code",
   "execution_count": 8,
   "metadata": {},
   "outputs": [
    {
     "data": {
      "text/plain": [
       "3"
      ]
     },
     "execution_count": 8,
     "metadata": {},
     "output_type": "execute_result"
    }
   ],
   "source": [
    "c.get_r()"
   ]
  },
  {
   "cell_type": "code",
   "execution_count": 9,
   "metadata": {},
   "outputs": [],
   "source": [
    "real(c) += 1;"
   ]
  },
  {
   "cell_type": "code",
   "execution_count": 10,
   "metadata": {},
   "outputs": [
    {
     "data": {
      "text/plain": [
       "4"
      ]
     },
     "execution_count": 10,
     "metadata": {},
     "output_type": "execute_result"
    }
   ],
   "source": [
    "c.get_r()"
   ]
  }
 ],
 "metadata": {
  "kernelspec": {
   "display_name": "C++17",
   "language": "C++17",
   "name": "xcpp17"
  },
  "language_info": {
   "codemirror_mode": "text/x-c++src",
   "file_extension": ".cpp",
   "mimetype": "text/x-c++src",
   "name": "c++",
   "version": "-std=c++17"
  }
 },
 "nbformat": 4,
 "nbformat_minor": 2
}
