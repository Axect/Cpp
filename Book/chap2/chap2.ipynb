{
 "cells": [
  {
   "cell_type": "markdown",
   "metadata": {},
   "source": [
    "# Member"
   ]
  },
  {
   "cell_type": "markdown",
   "metadata": {},
   "source": [
    "## 2.2.1 Member Variables"
   ]
  },
  {
   "cell_type": "code",
   "execution_count": 1,
   "metadata": {},
   "outputs": [],
   "source": [
    "class mycomplex {\n",
    "public:\n",
    "    double r, i;\n",
    "};"
   ]
  },
  {
   "cell_type": "code",
   "execution_count": 2,
   "metadata": {},
   "outputs": [],
   "source": [
    "mycomplex z;"
   ]
  },
  {
   "cell_type": "code",
   "execution_count": 3,
   "metadata": {},
   "outputs": [],
   "source": [
    "z.r = 3.5; z.i = 2;"
   ]
  },
  {
   "cell_type": "code",
   "execution_count": 4,
   "metadata": {},
   "outputs": [
    {
     "name": "stdout",
     "output_type": "stream",
     "text": [
      "z is (3.5, 2)\n"
     ]
    }
   ],
   "source": [
    "cout << \"z is (\" << z.r << \", \" << z.i << \")\\n\";"
   ]
  },
  {
   "cell_type": "markdown",
   "metadata": {},
   "source": [
    "## 2.2.3 Access Operator"
   ]
  },
  {
   "cell_type": "code",
   "execution_count": 5,
   "metadata": {},
   "outputs": [],
   "source": [
    "mycomplex c;\n",
    "mycomplex* p = &c;\n",
    "(*p).r = 3.5;      // Not good\n",
    "p->r = 4.2;        // More good"
   ]
  },
  {
   "cell_type": "code",
   "execution_count": 6,
   "metadata": {},
   "outputs": [
    {
     "name": "stdout",
     "output_type": "stream",
     "text": [
      "4.2\n"
     ]
    }
   ],
   "source": [
    "cout << (*p).r << endl;"
   ]
  },
  {
   "cell_type": "markdown",
   "metadata": {},
   "source": [
    "## 2.3.1 Constructor"
   ]
  },
  {
   "cell_type": "code",
   "execution_count": 7,
   "metadata": {},
   "outputs": [],
   "source": [
    "class Complex {\n",
    "public:\n",
    "    // Default Constructor\n",
    "    Complex(double r=0, double i=0) : r(r), i(i) {}\n",
    "        \n",
    "    // Copy Constructor\n",
    "    Complex(const Complex& c) : r(c.r), i(c.i) {}\n",
    "    \n",
    "    // Getter\n",
    "    double get_r() {\n",
    "        return r;\n",
    "    }\n",
    "    double get_i() {\n",
    "        return i;\n",
    "    }\n",
    "private:\n",
    "    double r, i;\n",
    "};"
   ]
  },
  {
   "cell_type": "code",
   "execution_count": 8,
   "metadata": {},
   "outputs": [],
   "source": [
    "Complex z1,\n",
    "    z2(4),\n",
    "    z3 = 4,\n",
    "    z4(0, 1);"
   ]
  },
  {
   "cell_type": "code",
   "execution_count": 9,
   "metadata": {},
   "outputs": [
    {
     "name": "stdout",
     "output_type": "stream",
     "text": [
      "real: 0 imag: 0\n",
      "real: 4 imag: 0\n",
      "real: 4 imag: 0\n",
      "real: 0 imag: 1\n"
     ]
    }
   ],
   "source": [
    "cout << \"real: \" << z1.get_r() << \" imag: \" << z1.get_i() << endl;\n",
    "cout << \"real: \" << z2.get_r() << \" imag: \" << z2.get_i() << endl;\n",
    "cout << \"real: \" << z3.get_r() << \" imag: \" << z3.get_i() << endl;\n",
    "cout << \"real: \" << z4.get_r() << \" imag: \" << z4.get_i() << endl;"
   ]
  },
  {
   "cell_type": "code",
   "execution_count": 10,
   "metadata": {},
   "outputs": [],
   "source": [
    "Complex z_copy(z4);"
   ]
  },
  {
   "cell_type": "code",
   "execution_count": 11,
   "metadata": {},
   "outputs": [
    {
     "name": "stdout",
     "output_type": "stream",
     "text": [
      "real: 0 imag: 1\n"
     ]
    }
   ],
   "source": [
    "cout << \"real: \" << z_copy.get_r() << \" imag: \" << z_copy.get_i() << endl;"
   ]
  },
  {
   "cell_type": "markdown",
   "metadata": {},
   "source": [
    "### 2.3.1.2 Problem of Copy Constructor"
   ]
  },
  {
   "cell_type": "code",
   "execution_count": 12,
   "metadata": {},
   "outputs": [],
   "source": [
    "class Vector_Fail {\n",
    "public:\n",
    "    // Copy Constructor\n",
    "    // Fail : Two pointer have same address\n",
    "    Vector_Fail(const Vector_Fail& v) : my_size(v.my_size), data(new double[my_size]) {\n",
    "        for (unsigned i = 0; i < my_size; ++i)\n",
    "            data[i] = v.data[i];\n",
    "    }\n",
    "    \n",
    "    // Destructor\n",
    "    ~Vector_Fail() { delete[] data; }\n",
    "    \n",
    "private:\n",
    "    unsigned my_size;\n",
    "    double *data;\n",
    "};"
   ]
  },
  {
   "cell_type": "code",
   "execution_count": 13,
   "metadata": {},
   "outputs": [],
   "source": [
    "#include <memory>\n",
    "\n",
    "class Vector {\n",
    "public:\n",
    "    Vector(const Vector& v) : my_size(v.my_size), data(new double[my_size]) {\n",
    "        for (unsigned i = 0; i < my_size; ++i)\n",
    "            data[i] = v.data[i];\n",
    "    }\n",
    "    \n",
    "private:\n",
    "    unsigned my_size;\n",
    "    // Smart pointer\n",
    "    //   Unique ownership -> Not auto copy constructor\n",
    "    //   Auto dememorize\n",
    "    std::unique_ptr<double[]> data;\n",
    "};"
   ]
  },
  {
   "cell_type": "markdown",
   "metadata": {},
   "source": [
    "### 2.3.1.3 Explicit Constructor"
   ]
  },
  {
   "cell_type": "code",
   "execution_count": 14,
   "metadata": {},
   "outputs": [],
   "source": [
    "class Vec3 {\n",
    "public:\n",
    "    Vec3(int n) : my_size(n), data(new double[my_size]) {}\n",
    "    \n",
    "private:\n",
    "    unsigned my_size;\n",
    "    std::unique_ptr<double[]> data;\n",
    "};"
   ]
  },
  {
   "cell_type": "code",
   "execution_count": 15,
   "metadata": {},
   "outputs": [],
   "source": [
    "double dot(const Vec3& v, const Vec3& w) {\n",
    "    return 1.0;\n",
    "}\n",
    "\n",
    "double d = dot(8, 8); // It is also allowed! Implicit!"
   ]
  },
  {
   "cell_type": "code",
   "execution_count": 16,
   "metadata": {},
   "outputs": [],
   "source": [
    "class Vec4 {\n",
    "public:\n",
    "    // Can escape implicit conversion by explicit constructor\n",
    "    explicit Vec4(int n) : my_size(n), data(new double[my_size]) {}\n",
    "    \n",
    "private:\n",
    "    unsigned my_size;\n",
    "    std::unique_ptr<double[]> data;\n",
    "};"
   ]
  },
  {
   "cell_type": "markdown",
   "metadata": {},
   "source": [
    "### 2.3.1.4 Delegating Constructor (C++11)"
   ]
  },
  {
   "cell_type": "code",
   "execution_count": 18,
   "metadata": {},
   "outputs": [],
   "source": [
    "class Complex2 {\n",
    "public:\n",
    "    Complex2(double r, double i) : r{r}, i{i} {}\n",
    "    Complex2(double r) : Complex2{r, 0.0} {}\n",
    "    Complex2() : Complex2{0.0} {}\n",
    "private:\n",
    "    double r, i;\n",
    "};"
   ]
  },
  {
   "cell_type": "markdown",
   "metadata": {},
   "source": [
    "### 2.3.1.5 Default value of member (C++11)"
   ]
  },
  {
   "cell_type": "code",
   "execution_count": 19,
   "metadata": {},
   "outputs": [],
   "source": [
    "class Complex3 {\n",
    "public:\n",
    "    Complex3(double r, double i) : r{r}, i{i} {}\n",
    "    Complex3(double r) : Complex3{r, 0.0} {}\n",
    "    Complex3() : Complex3{0.0} {}\n",
    "private:\n",
    "    double r = 0.0, i = 0.0; // Default!\n",
    "};"
   ]
  },
  {
   "cell_type": "markdown",
   "metadata": {},
   "source": [
    "## 2.3.2 Assign"
   ]
  },
  {
   "cell_type": "code",
   "execution_count": null,
   "metadata": {},
   "outputs": [],
   "source": []
  }
 ],
 "metadata": {
  "kernelspec": {
   "display_name": "ROOT C++",
   "language": "c++",
   "name": "root"
  },
  "language_info": {
   "codemirror_mode": "text/x-c++src",
   "file_extension": ".C",
   "mimetype": " text/x-c++src",
   "name": "c++"
  }
 },
 "nbformat": 4,
 "nbformat_minor": 2
}
